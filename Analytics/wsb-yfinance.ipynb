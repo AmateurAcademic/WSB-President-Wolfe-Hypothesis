{
 "metadata": {
  "language_info": {
   "codemirror_mode": {
    "name": "ipython",
    "version": 3
   },
   "file_extension": ".py",
   "mimetype": "text/x-python",
   "name": "python",
   "nbconvert_exporter": "python",
   "pygments_lexer": "ipython3",
   "version": "3.8.5-final"
  },
  "orig_nbformat": 2,
  "kernelspec": {
   "name": "python38564bit3967aef1ad1c4b5583433ba2ded6c152",
   "display_name": "Python 3.8.5 64-bit",
   "language": "python"
  }
 },
 "nbformat": 4,
 "nbformat_minor": 2,
 "cells": [
  {
   "cell_type": "code",
   "execution_count": 1,
   "metadata": {},
   "outputs": [],
   "source": [
    "import pandas as pd\n",
    "import yfinance as yf\n",
    "import numpy as np\n",
    "from datetime import datetime\n",
    "import os\n",
    "import glob"
   ]
  },
  {
   "source": [
    "Import all B, F, P files"
   ],
   "cell_type": "markdown",
   "metadata": {}
  },
  {
   "source": [
    "TODO: re-write as a function, pass dates as parameter"
   ],
   "cell_type": "markdown",
   "metadata": {}
  },
  {
   "cell_type": "code",
   "execution_count": 3,
   "metadata": {},
   "outputs": [],
   "source": [
    "os.chdir('../WebScraping/F')\n",
    "F_filenames = [i for i in glob.glob('*.txt')]\n",
    "os.chdir('../B')\n",
    "B_filenames = [i for i in glob.glob('*.txt')]\n",
    "os.chdir('../P')\n",
    "P_filenames =  [i for i in glob.glob('*.txt')]"
   ]
  },
  {
   "source": [
    "Concat into merged_dfs"
   ],
   "cell_type": "markdown",
   "metadata": {}
  },
  {
   "cell_type": "code",
   "execution_count": 5,
   "metadata": {},
   "outputs": [],
   "source": [
    "F_merged_df = pd.concat([pd.read_csv(file, sep='|') for file in F_filenames])\n",
    "B_merged_df = pd.concat([pd.read_csv(file, sep='|') for file in B_filenames])\n",
    "P_merged_df = pd.concat([pd.read_csv(file, sep='|') for file in P_filenames])\n"
   ]
  },
  {
   "cell_type": "code",
   "execution_count": 6,
   "metadata": {},
   "outputs": [
    {
     "output_type": "execute_result",
     "data": {
      "text/plain": [
       "          DATE SYMBOL  SHORT VOLUME  TOTAL VOLUME MARKET\n",
       "0     20210211      A           400           600      X\n",
       "1     20210211     AA          5890         11990      X\n",
       "2     20210211   AAAU         11800         11800      X\n",
       "3     20210211   AACG           200          1700      X\n",
       "4     20210211   AACQ          7406         10892      X\n",
       "...        ...    ...           ...           ...    ...\n",
       "5258  20210208  ZVZZT             0           800      X\n",
       "5259  20210208  ZWRKU           100           100      X\n",
       "5260  20210208   ZYME          6349          8754      X\n",
       "5261  20210208   ZYNE         78969        147174      X\n",
       "5262  20210208   ZYXI          1100          1900      X\n",
       "\n",
       "[57349 rows x 5 columns]"
      ],
      "text/html": "<div>\n<style scoped>\n    .dataframe tbody tr th:only-of-type {\n        vertical-align: middle;\n    }\n\n    .dataframe tbody tr th {\n        vertical-align: top;\n    }\n\n    .dataframe thead th {\n        text-align: right;\n    }\n</style>\n<table border=\"1\" class=\"dataframe\">\n  <thead>\n    <tr style=\"text-align: right;\">\n      <th></th>\n      <th>DATE</th>\n      <th>SYMBOL</th>\n      <th>SHORT VOLUME</th>\n      <th>TOTAL VOLUME</th>\n      <th>MARKET</th>\n    </tr>\n  </thead>\n  <tbody>\n    <tr>\n      <th>0</th>\n      <td>20210211</td>\n      <td>A</td>\n      <td>400</td>\n      <td>600</td>\n      <td>X</td>\n    </tr>\n    <tr>\n      <th>1</th>\n      <td>20210211</td>\n      <td>AA</td>\n      <td>5890</td>\n      <td>11990</td>\n      <td>X</td>\n    </tr>\n    <tr>\n      <th>2</th>\n      <td>20210211</td>\n      <td>AAAU</td>\n      <td>11800</td>\n      <td>11800</td>\n      <td>X</td>\n    </tr>\n    <tr>\n      <th>3</th>\n      <td>20210211</td>\n      <td>AACG</td>\n      <td>200</td>\n      <td>1700</td>\n      <td>X</td>\n    </tr>\n    <tr>\n      <th>4</th>\n      <td>20210211</td>\n      <td>AACQ</td>\n      <td>7406</td>\n      <td>10892</td>\n      <td>X</td>\n    </tr>\n    <tr>\n      <th>...</th>\n      <td>...</td>\n      <td>...</td>\n      <td>...</td>\n      <td>...</td>\n      <td>...</td>\n    </tr>\n    <tr>\n      <th>5258</th>\n      <td>20210208</td>\n      <td>ZVZZT</td>\n      <td>0</td>\n      <td>800</td>\n      <td>X</td>\n    </tr>\n    <tr>\n      <th>5259</th>\n      <td>20210208</td>\n      <td>ZWRKU</td>\n      <td>100</td>\n      <td>100</td>\n      <td>X</td>\n    </tr>\n    <tr>\n      <th>5260</th>\n      <td>20210208</td>\n      <td>ZYME</td>\n      <td>6349</td>\n      <td>8754</td>\n      <td>X</td>\n    </tr>\n    <tr>\n      <th>5261</th>\n      <td>20210208</td>\n      <td>ZYNE</td>\n      <td>78969</td>\n      <td>147174</td>\n      <td>X</td>\n    </tr>\n    <tr>\n      <th>5262</th>\n      <td>20210208</td>\n      <td>ZYXI</td>\n      <td>1100</td>\n      <td>1900</td>\n      <td>X</td>\n    </tr>\n  </tbody>\n</table>\n<p>57349 rows × 5 columns</p>\n</div>"
     },
     "metadata": {},
     "execution_count": 6
    }
   ],
   "source": [
    "B_merged_df"
   ]
  },
  {
   "source": [
    "CNMSshvol_df = pd.read_csv('CNMSshvol20210212.txt', sep='|', header=0)"
   ],
   "cell_type": "code",
   "metadata": {},
   "execution_count": null,
   "outputs": []
  },
  {
   "cell_type": "code",
   "execution_count": null,
   "metadata": {},
   "outputs": [],
   "source": [
    "CNMSshvol_df['date'] =  pd.to_datetime(CNMSshvol_df['Date'], errors='coerce', format='%Y%m%d')"
   ]
  },
  {
   "cell_type": "code",
   "execution_count": null,
   "metadata": {},
   "outputs": [],
   "source": [
    "CNMSshvol_df"
   ]
  },
  {
   "cell_type": "code",
   "execution_count": null,
   "metadata": {},
   "outputs": [],
   "source": [
    "def calculate_change(start, end):\n",
    "  return round(((end - start)/start)*100, 2)"
   ]
  },
  {
   "cell_type": "code",
   "execution_count": null,
   "metadata": {},
   "outputs": [],
   "source": [
    "# currently online gets history back one day instead of parameter date\n",
    "def get_change(symbol, date):\n",
    "\n",
    "   return calculate_change(yf.Ticker(symbol).history(start=date, end=date)[\"Open\"].to_list()[0], yf.Ticker(symbol).history(start=date, end=date)[\"Close\"].to_list()[-1])"
   ]
  },
  {
   "source": [
    "Single test for single stonk"
   ],
   "cell_type": "markdown",
   "metadata": {}
  },
  {
   "cell_type": "code",
   "execution_count": null,
   "metadata": {},
   "outputs": [],
   "source": [
    "date_str =  str(20210105)\n",
    "date = datetime(year=int(date_str[0:4]), month=int(date_str[4:6]), day=int(date_str[6:8]))\n",
    "\n",
    "print(date)\n",
    "print (get_change(\"AMC\", date))"
   ]
  },
  {
   "source": [
    "The for loop to loop over every symbol in the dataframe"
   ],
   "cell_type": "markdown",
   "metadata": {}
  },
  {
   "cell_type": "code",
   "execution_count": null,
   "metadata": {},
   "outputs": [],
   "source": [
    "one_day_change = []\n",
    "date_str =  str(CNMSshvol_df['Date'][0])\n",
    "date = datetime(year=int(date_str[0:4]), month=int(date_str[4:6]), day=int(date_str[6:8]))\n",
    "# symbols = CNMSshvol_df['Symbol']\n",
    "symbols - [\"GME\", \"AMC\", \"BB\", \"TSLA\", \"NOK\", \"TLRY\", \"SNDL\", \"AAPL\", \"MSFT\", \"BYND\", \"PLTR\"]\n",
    "\n",
    "for symbol in symbols:\n",
    "    try:\n",
    "        one_day_change.append(get_change(symbol, date))\n",
    "    except:\n",
    "        one_day_change.append(np.nan)"
   ]
  },
  {
   "source": [
    "CNMSshvol_df['1d%'] = one_day_change"
   ],
   "cell_type": "code",
   "metadata": {},
   "execution_count": null,
   "outputs": []
  },
  {
   "cell_type": "code",
   "execution_count": null,
   "metadata": {
    "tags": [
     "outputPrepend"
    ]
   },
   "outputs": [],
   "source": [
    "print(one_day_change)"
   ]
  }
 ]
}